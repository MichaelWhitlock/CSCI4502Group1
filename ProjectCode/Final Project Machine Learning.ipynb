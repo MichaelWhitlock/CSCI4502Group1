{
 "cells": [
  {
   "cell_type": "code",
   "execution_count": 1,
   "metadata": {},
   "outputs": [],
   "source": [
    "import numpy as np\n",
    "import pandas as pd\n",
    "from collections import Counter\n",
    "from sklearn.feature_extraction import DictVectorizer\n",
    "\n",
    "from sklearn.linear_model import LogisticRegression\n",
    "from sklearn.model_selection import GridSearchCV, cross_val_predict\n",
    "from sklearn.metrics import accuracy_score\n"
   ]
  },
  {
   "cell_type": "code",
   "execution_count": 23,
   "metadata": {},
   "outputs": [],
   "source": [
    "orders = pd.read_csv('instacart/orders.csv')\n",
    "products = pd.read_csv('instacart/products.csv')\n",
    "order_products_prior = pd.read_csv('instacart/order_products__prior.csv')"
   ]
  },
  {
   "cell_type": "code",
   "execution_count": 29,
   "metadata": {},
   "outputs": [
    {
     "name": "stdout",
     "output_type": "stream",
     "text": [
      "(3421083, 7)\n",
      "['order_id', 'user_id', 'eval_set', 'order_number', 'order_dow', 'order_hour_of_day', 'days_since_prior_order']\n",
      "(3214874, 7)\n"
     ]
    }
   ],
   "source": [
    "print(orders.shape)\n",
    "\n",
    "print(list(orders))\n",
    "ordersSet = orders[orders['eval_set'].str.contains(\"prior\")]\n",
    "print(ordersSet.shape)"
   ]
  },
  {
   "cell_type": "code",
   "execution_count": 30,
   "metadata": {},
   "outputs": [
    {
     "name": "stdout",
     "output_type": "stream",
     "text": [
      "(3214874, 2)\n"
     ]
    }
   ],
   "source": [
    "twoColOrders = ordersSet.filter([\"order_id\", \"user_id\"], axis=1)\n",
    "print(twoColOrders.shape)"
   ]
  },
  {
   "cell_type": "code",
   "execution_count": 31,
   "metadata": {
    "scrolled": true
   },
   "outputs": [
    {
     "name": "stdout",
     "output_type": "stream",
     "text": [
      "(32434489, 3)\n"
     ]
    }
   ],
   "source": [
    "threeColPriors = order_products_prior.filter([\"order_id\", \"product_id\", \"reordered\"], axis =1)\n",
    "print(threeColPriors.shape)"
   ]
  },
  {
   "cell_type": "code",
   "execution_count": 45,
   "metadata": {},
   "outputs": [
    {
     "name": "stdout",
     "output_type": "stream",
     "text": [
      "['product_id', 'reordered', 'user_id']\n",
      "(32434489, 3)\n"
     ]
    }
   ],
   "source": [
    "#df.groupby('id').agg(lambda x: x.tolist())\n",
    "# & (orders['user_id'] < 20000)\n",
    "userProduct = threeColPriors.set_index('order_id').join(twoColOrders.set_index('order_id'))\n",
    "print(list(userProduct))\n",
    "print(userProduct.shape)"
   ]
  },
  {
   "cell_type": "code",
   "execution_count": 73,
   "metadata": {},
   "outputs": [
    {
     "name": "stdout",
     "output_type": "stream",
     "text": [
      "(7882635, 3)\n"
     ]
    }
   ],
   "source": [
    "totalSet = userProduct[userProduct['user_id'] <= 50000]\n",
    "print(totalSet.shape)"
   ]
  },
  {
   "cell_type": "code",
   "execution_count": 74,
   "metadata": {},
   "outputs": [
    {
     "data": {
      "text/html": [
       "<div>\n",
       "<style scoped>\n",
       "    .dataframe tbody tr th:only-of-type {\n",
       "        vertical-align: middle;\n",
       "    }\n",
       "\n",
       "    .dataframe tbody tr th {\n",
       "        vertical-align: top;\n",
       "    }\n",
       "\n",
       "    .dataframe thead th {\n",
       "        text-align: right;\n",
       "    }\n",
       "</style>\n",
       "<table border=\"1\" class=\"dataframe\">\n",
       "  <thead>\n",
       "    <tr style=\"text-align: right;\">\n",
       "      <th></th>\n",
       "      <th>product_id</th>\n",
       "      <th>reordered</th>\n",
       "      <th>user_id</th>\n",
       "    </tr>\n",
       "    <tr>\n",
       "      <th>order_id</th>\n",
       "      <th></th>\n",
       "      <th></th>\n",
       "      <th></th>\n",
       "    </tr>\n",
       "  </thead>\n",
       "  <tbody>\n",
       "    <tr>\n",
       "      <th>6</th>\n",
       "      <td>40462</td>\n",
       "      <td>0</td>\n",
       "      <td>22352</td>\n",
       "    </tr>\n",
       "    <tr>\n",
       "      <th>6</th>\n",
       "      <td>15873</td>\n",
       "      <td>0</td>\n",
       "      <td>22352</td>\n",
       "    </tr>\n",
       "    <tr>\n",
       "      <th>6</th>\n",
       "      <td>41897</td>\n",
       "      <td>0</td>\n",
       "      <td>22352</td>\n",
       "    </tr>\n",
       "    <tr>\n",
       "      <th>8</th>\n",
       "      <td>23423</td>\n",
       "      <td>1</td>\n",
       "      <td>3107</td>\n",
       "    </tr>\n",
       "    <tr>\n",
       "      <th>13</th>\n",
       "      <td>17330</td>\n",
       "      <td>0</td>\n",
       "      <td>45082</td>\n",
       "    </tr>\n",
       "    <tr>\n",
       "      <th>13</th>\n",
       "      <td>27407</td>\n",
       "      <td>0</td>\n",
       "      <td>45082</td>\n",
       "    </tr>\n",
       "    <tr>\n",
       "      <th>13</th>\n",
       "      <td>35419</td>\n",
       "      <td>0</td>\n",
       "      <td>45082</td>\n",
       "    </tr>\n",
       "    <tr>\n",
       "      <th>13</th>\n",
       "      <td>196</td>\n",
       "      <td>0</td>\n",
       "      <td>45082</td>\n",
       "    </tr>\n",
       "    <tr>\n",
       "      <th>13</th>\n",
       "      <td>44635</td>\n",
       "      <td>0</td>\n",
       "      <td>45082</td>\n",
       "    </tr>\n",
       "    <tr>\n",
       "      <th>13</th>\n",
       "      <td>26878</td>\n",
       "      <td>0</td>\n",
       "      <td>45082</td>\n",
       "    </tr>\n",
       "  </tbody>\n",
       "</table>\n",
       "</div>"
      ],
      "text/plain": [
       "          product_id  reordered  user_id\n",
       "order_id                                \n",
       "6              40462          0    22352\n",
       "6              15873          0    22352\n",
       "6              41897          0    22352\n",
       "8              23423          1     3107\n",
       "13             17330          0    45082\n",
       "13             27407          0    45082\n",
       "13             35419          0    45082\n",
       "13               196          0    45082\n",
       "13             44635          0    45082\n",
       "13             26878          0    45082"
      ]
     },
     "execution_count": 74,
     "metadata": {},
     "output_type": "execute_result"
    }
   ],
   "source": [
    "totalSet.iloc[0:10]"
   ]
  },
  {
   "cell_type": "code",
   "execution_count": 90,
   "metadata": {},
   "outputs": [],
   "source": [
    "totalSet = totalSet.groupby('user_id').agg({\n",
    "    \"product_id\": lambda x: x.tolist(),\n",
    "    \"reordered\": 'mean'\n",
    "\n",
    "})"
   ]
  },
  {
   "cell_type": "code",
   "execution_count": 91,
   "metadata": {},
   "outputs": [],
   "source": [
    "temp = totalSet[totalSet['reordered'] >= .5]"
   ]
  },
  {
   "cell_type": "code",
   "execution_count": 92,
   "metadata": {},
   "outputs": [
    {
     "name": "stdout",
     "output_type": "stream",
     "text": [
      "(19961, 2)\n"
     ]
    }
   ],
   "source": [
    "print(temp.shape)"
   ]
  },
  {
   "cell_type": "code",
   "execution_count": 93,
   "metadata": {},
   "outputs": [
    {
     "data": {
      "text/plain": [
       "(50000, 2)"
      ]
     },
     "execution_count": 93,
     "metadata": {},
     "output_type": "execute_result"
    }
   ],
   "source": [
    "totalSet.shape"
   ]
  },
  {
   "cell_type": "code",
   "execution_count": 94,
   "metadata": {},
   "outputs": [],
   "source": [
    "totalSet['reordered'] = np.where(totalSet['reordered'] >= .5, 1, totalSet['reordered'])\n",
    "totalSet['reordered'] = np.where(totalSet['reordered'] < .5, 0, totalSet['reordered'])"
   ]
  },
  {
   "cell_type": "code",
   "execution_count": 95,
   "metadata": {},
   "outputs": [
    {
     "data": {
      "text/html": [
       "<div>\n",
       "<style scoped>\n",
       "    .dataframe tbody tr th:only-of-type {\n",
       "        vertical-align: middle;\n",
       "    }\n",
       "\n",
       "    .dataframe tbody tr th {\n",
       "        vertical-align: top;\n",
       "    }\n",
       "\n",
       "    .dataframe thead th {\n",
       "        text-align: right;\n",
       "    }\n",
       "</style>\n",
       "<table border=\"1\" class=\"dataframe\">\n",
       "  <thead>\n",
       "    <tr style=\"text-align: right;\">\n",
       "      <th></th>\n",
       "      <th>product_id</th>\n",
       "      <th>reordered</th>\n",
       "    </tr>\n",
       "    <tr>\n",
       "      <th>user_id</th>\n",
       "      <th></th>\n",
       "      <th></th>\n",
       "    </tr>\n",
       "  </thead>\n",
       "  <tbody>\n",
       "    <tr>\n",
       "      <th>1</th>\n",
       "      <td>[[196, 12427, 10258, 25133, 10326, 17122, 4178...</td>\n",
       "      <td>1.0</td>\n",
       "    </tr>\n",
       "    <tr>\n",
       "      <th>2</th>\n",
       "      <td>[[49451, 32792, 32139, 34688, 36735, 37646, 22...</td>\n",
       "      <td>0.0</td>\n",
       "    </tr>\n",
       "    <tr>\n",
       "      <th>3</th>\n",
       "      <td>[[38596, 21903, 248, 40604, 8021, 17668, 21137...</td>\n",
       "      <td>1.0</td>\n",
       "    </tr>\n",
       "    <tr>\n",
       "      <th>4</th>\n",
       "      <td>[[22199, 25146, 1200, 17769, 43704, 37646, 118...</td>\n",
       "      <td>0.0</td>\n",
       "    </tr>\n",
       "    <tr>\n",
       "      <th>5</th>\n",
       "      <td>[[27344, 24535, 43693, 40706, 16168, 21413, 13...</td>\n",
       "      <td>0.0</td>\n",
       "    </tr>\n",
       "    <tr>\n",
       "      <th>6</th>\n",
       "      <td>[[38293, 20323, 40992, 21903, 45007, 11068, 10...</td>\n",
       "      <td>0.0</td>\n",
       "    </tr>\n",
       "    <tr>\n",
       "      <th>7</th>\n",
       "      <td>[[13198, 42803, 8277, 37602, 40852, 4920, 4945...</td>\n",
       "      <td>1.0</td>\n",
       "    </tr>\n",
       "    <tr>\n",
       "      <th>8</th>\n",
       "      <td>[[21903, 28985, 6473, 39110, 39812, 20920, 320...</td>\n",
       "      <td>0.0</td>\n",
       "    </tr>\n",
       "    <tr>\n",
       "      <th>9</th>\n",
       "      <td>[[27973, 481, 27966, 33754, 4957, 13351, 40571...</td>\n",
       "      <td>0.0</td>\n",
       "    </tr>\n",
       "    <tr>\n",
       "      <th>10</th>\n",
       "      <td>[[46979, 47380, 20995, 43014, 15011, 27156, 13...</td>\n",
       "      <td>0.0</td>\n",
       "    </tr>\n",
       "  </tbody>\n",
       "</table>\n",
       "</div>"
      ],
      "text/plain": [
       "                                                product_id  reordered\n",
       "user_id                                                              \n",
       "1        [[196, 12427, 10258, 25133, 10326, 17122, 4178...        1.0\n",
       "2        [[49451, 32792, 32139, 34688, 36735, 37646, 22...        0.0\n",
       "3        [[38596, 21903, 248, 40604, 8021, 17668, 21137...        1.0\n",
       "4        [[22199, 25146, 1200, 17769, 43704, 37646, 118...        0.0\n",
       "5        [[27344, 24535, 43693, 40706, 16168, 21413, 13...        0.0\n",
       "6        [[38293, 20323, 40992, 21903, 45007, 11068, 10...        0.0\n",
       "7        [[13198, 42803, 8277, 37602, 40852, 4920, 4945...        1.0\n",
       "8        [[21903, 28985, 6473, 39110, 39812, 20920, 320...        0.0\n",
       "9        [[27973, 481, 27966, 33754, 4957, 13351, 40571...        0.0\n",
       "10       [[46979, 47380, 20995, 43014, 15011, 27156, 13...        0.0"
      ]
     },
     "execution_count": 95,
     "metadata": {},
     "output_type": "execute_result"
    }
   ],
   "source": [
    "totalSet.iloc[0:10]"
   ]
  },
  {
   "cell_type": "code",
   "execution_count": 96,
   "metadata": {},
   "outputs": [
    {
     "name": "stdout",
     "output_type": "stream",
     "text": [
      "(40000, 2)\n",
      "(10000, 2)\n"
     ]
    }
   ],
   "source": [
    "trainSet = totalSet.iloc[0:40000]\n",
    "testSet = totalSet.iloc[40000:50000]\n",
    "print(trainSet.shape)\n",
    "print(testSet.shape)"
   ]
  },
  {
   "cell_type": "code",
   "execution_count": 97,
   "metadata": {},
   "outputs": [
    {
     "name": "stdout",
     "output_type": "stream",
     "text": [
      "<class 'list'>\n",
      "<class 'list'>\n"
     ]
    }
   ],
   "source": [
    "print(type(trainSet.iloc[1][0]))\n",
    "list = trainSet.iloc[1][0]\n",
    "print(type(list[0]))"
   ]
  },
  {
   "cell_type": "code",
   "execution_count": 152,
   "metadata": {},
   "outputs": [],
   "source": [
    "def features(productList):\n",
    "    featureList = []\n",
    "    for item in productList[0]:\n",
    "        featureList.append(str(item))\n",
    "    return Counter(featureList)"
   ]
  },
  {
   "cell_type": "code",
   "execution_count": 153,
   "metadata": {},
   "outputs": [
    {
     "data": {
      "text/plain": [
       "Counter({'196': 10,\n",
       "         '12427': 10,\n",
       "         '10258': 9,\n",
       "         '25133': 8,\n",
       "         '10326': 1,\n",
       "         '17122': 1,\n",
       "         '41787': 1,\n",
       "         '13176': 2,\n",
       "         '30450': 1,\n",
       "         '13032': 3,\n",
       "         '26405': 2,\n",
       "         '49235': 2,\n",
       "         '46149': 3,\n",
       "         '26088': 2,\n",
       "         '14084': 1,\n",
       "         '39657': 1,\n",
       "         '38928': 1,\n",
       "         '35951': 1})"
      ]
     },
     "execution_count": 153,
     "metadata": {},
     "output_type": "execute_result"
    }
   ],
   "source": [
    "features(xtrainRaw[1])"
   ]
  },
  {
   "cell_type": "code",
   "execution_count": 154,
   "metadata": {},
   "outputs": [],
   "source": [
    "xtrainRaw = trainSet.iloc[0:, 0]\n",
    "ytrain = trainSet.iloc[0:, 1]\n",
    "\n",
    "xtestRaw = testSet.iloc[0:, 0]\n",
    "ytest = testSet.iloc[0:, 1]\n",
    "\n",
    "vect = DictVectorizer()\n",
    "xtrain = vect.fit_transform(features(row) for row in xtrainRaw)\n",
    "xtest = vect.transform(features(row) for row in xtestRaw)"
   ]
  },
  {
   "cell_type": "code",
   "execution_count": 155,
   "metadata": {},
   "outputs": [
    {
     "name": "stdout",
     "output_type": "stream",
     "text": [
      "(40000, 45719)\n",
      "(10000, 45719)\n"
     ]
    }
   ],
   "source": [
    "type(xtrain)\n",
    "print(xtrain.shape)\n",
    "print(xtest.shape)"
   ]
  },
  {
   "cell_type": "code",
   "execution_count": 156,
   "metadata": {},
   "outputs": [
    {
     "name": "stdout",
     "output_type": "stream",
     "text": [
      "Training accuracy: 0.715000 for c of 0.000100\n",
      "Test accuracy: 0.715500\n",
      "Training accuracy: 0.846000 for c of 0.001000\n",
      "Test accuracy: 0.763800\n",
      "Training accuracy: 0.955000 for c of 0.010000\n",
      "Test accuracy: 0.761400\n",
      "Training accuracy: 0.999000 for c of 0.100000\n",
      "Test accuracy: 0.741500\n",
      "Training accuracy: 1.000000 for c of 1.000000\n",
      "Test accuracy: 0.740200\n",
      "Training accuracy: 1.000000 for c of 10.000000\n",
      "Test accuracy: 0.740200\n",
      "Training accuracy: 1.000000 for c of 100.000000\n",
      "Test accuracy: 0.740200\n",
      "Training accuracy: 1.000000 for c of 1000.000000\n",
      "Test accuracy: 0.740200\n"
     ]
    }
   ],
   "source": [
    "from sklearn.svm import SVC\n",
    "\n",
    "clist = [.0001, .001, .01, .1, 1.0, 10, 100, 1000]\n",
    "for c in clist:\n",
    "    classifier = SVC(kernel='linear', C=c, random_state=123)\n",
    "    classifier.fit(xtrain[:1000], ytrain[:1000])\n",
    "\n",
    "    print(\"Training accuracy: %0.6f for c of %.6f\" % (accuracy_score(ytrain[:1000], classifier.predict(xtrain[:1000])), c))\n",
    "    print(\"Test accuracy: %0.6f\" % accuracy_score(ytest, classifier.predict(xtest)))"
   ]
  },
  {
   "cell_type": "code",
   "execution_count": 157,
   "metadata": {},
   "outputs": [
    {
     "name": "stdout",
     "output_type": "stream",
     "text": [
      "Training accuracy: 0.590000 for c of 0.000100\n",
      "Test accuracy: 0.596700\n",
      "Training accuracy: 0.590000 for c of 0.001000\n",
      "Test accuracy: 0.596700\n",
      "Training accuracy: 0.590000 for c of 0.010000\n",
      "Test accuracy: 0.596700\n",
      "Training accuracy: 0.594000 for c of 0.100000\n",
      "Test accuracy: 0.599600\n",
      "Training accuracy: 0.691000 for c of 1.000000\n",
      "Test accuracy: 0.702200\n",
      "Training accuracy: 0.812000 for c of 10.000000\n",
      "Test accuracy: 0.788300\n",
      "Training accuracy: 0.921000 for c of 100.000000\n",
      "Test accuracy: 0.828700\n",
      "Training accuracy: 0.993000 for c of 1000.000000\n",
      "Test accuracy: 0.828000\n"
     ]
    }
   ],
   "source": [
    "clist = [.0001, .001, .01, .1, 1.0, 10, 100, 1000]\n",
    "for c in clist:\n",
    "    classifier = SVC(kernel='rbf', C=c, random_state=123)\n",
    "    classifier.fit(xtrain[:1000], ytrain[:1000])\n",
    "\n",
    "    print(\"Training accuracy: %0.6f for c of %.6f\" % (accuracy_score(ytrain[:1000], classifier.predict(xtrain[:1000])), c))\n",
    "    print(\"Test accuracy: %0.6f\" % accuracy_score(ytest, classifier.predict(xtest)))"
   ]
  },
  {
   "cell_type": "code",
   "execution_count": 158,
   "metadata": {},
   "outputs": [
    {
     "name": "stdout",
     "output_type": "stream",
     "text": [
      "Test accuracy: 0.828000\n"
     ]
    }
   ],
   "source": [
    "from sklearn.neural_network import MLPClassifier\n",
    "\n",
    "clf = MLPClassifier(alpha=1)\n",
    "clf.fit(xtrain, ytrain)\n",
    "print(\"Test accuracy: %0.6f\" % accuracy_score(ytest, classifier.predict(xtest)))"
   ]
  },
  {
   "cell_type": "code",
   "execution_count": 159,
   "metadata": {},
   "outputs": [
    {
     "name": "stdout",
     "output_type": "stream",
     "text": [
      "Test accuracy: 0.842000\n"
     ]
    }
   ],
   "source": [
    "print(\"Test accuracy: %0.6f\" % accuracy_score(ytest, clf.predict(xtest)))"
   ]
  },
  {
   "cell_type": "code",
   "execution_count": 168,
   "metadata": {},
   "outputs": [
    {
     "name": "stdout",
     "output_type": "stream",
     "text": [
      "Test accuracy: 0.663800 with a depth of 5\n",
      "Test accuracy: 0.715100 with a depth of 10\n",
      "Test accuracy: 0.742900 with a depth of 15\n",
      "Test accuracy: 0.763100 with a depth of 20\n",
      "Test accuracy: 0.780300 with a depth of 25\n",
      "Test accuracy: 0.790000 with a depth of 30\n",
      "Test accuracy: 0.797900 with a depth of 35\n",
      "Test accuracy: 0.804600 with a depth of 40\n"
     ]
    }
   ],
   "source": [
    "from sklearn.ensemble import RandomForestClassifier\n",
    "\n",
    "depths = [5, 10 , 15, 20, 25, 30, 35, 40]\n",
    "\n",
    "for depth in depths:\n",
    "    RF = RandomForestClassifier(n_estimators=100, max_depth=depth, random_state=0)\n",
    "    RF.fit(xtrain, ytrain)\n",
    "    print(\"Test accuracy: %0.6f with a depth of %d\" % (accuracy_score(ytest, RF.predict(xtest)), depth))"
   ]
  },
  {
   "cell_type": "code",
   "execution_count": 169,
   "metadata": {},
   "outputs": [
    {
     "name": "stdout",
     "output_type": "stream",
     "text": [
      "Test accuracy: 0.804600 with a estimator of 50\n",
      "Test accuracy: 0.804600 with a estimator of 100\n",
      "Test accuracy: 0.803700 with a estimator of 120\n",
      "Test accuracy: 0.804100 with a estimator of 150\n",
      "Test accuracy: 0.802400 with a estimator of 180\n",
      "Test accuracy: 0.804300 with a estimator of 200\n",
      "Test accuracy: 0.804800 with a estimator of 225\n",
      "Test accuracy: 0.804900 with a estimator of 250\n"
     ]
    }
   ],
   "source": [
    "estimators = [50, 100 , 120, 150, 180, 200, 225, 250]\n",
    "\n",
    "for estimator in estimators:\n",
    "    RF = RandomForestClassifier(n_estimators=estimator, max_depth=40, random_state=0)\n",
    "    RF.fit(xtrain, ytrain)\n",
    "    print(\"Test accuracy: %0.6f with a estimator of %d\" % (accuracy_score(ytest, RF.predict(xtest)), estimator))"
   ]
  },
  {
   "cell_type": "code",
   "execution_count": 170,
   "metadata": {},
   "outputs": [
    {
     "name": "stdout",
     "output_type": "stream",
     "text": [
      "Test accuracy: 0.885300\n"
     ]
    }
   ],
   "source": [
    "classifier = SVC(kernel='rbf', C=100, random_state=123)\n",
    "classifier.fit(xtrain, ytrain)\n",
    "print(\"Test accuracy: %0.6f\" % accuracy_score(ytest, classifier.predict(xtest)))"
   ]
  },
  {
   "cell_type": "code",
   "execution_count": 171,
   "metadata": {},
   "outputs": [
    {
     "name": "stdout",
     "output_type": "stream",
     "text": [
      "Test accuracy: 0.763800\n"
     ]
    }
   ],
   "source": [
    "classifier = SVC(kernel='linear', C=.001, random_state=123)\n",
    "classifier.fit(xtrain[:1000], ytrain[:1000])\n",
    "print(\"Test accuracy: %0.6f\" % accuracy_score(ytest, classifier.predict(xtest)))"
   ]
  },
  {
   "cell_type": "code",
   "execution_count": null,
   "metadata": {},
   "outputs": [],
   "source": []
  }
 ],
 "metadata": {
  "kernelspec": {
   "display_name": "Python 3",
   "language": "python",
   "name": "python3"
  },
  "language_info": {
   "codemirror_mode": {
    "name": "ipython",
    "version": 3
   },
   "file_extension": ".py",
   "mimetype": "text/x-python",
   "name": "python",
   "nbconvert_exporter": "python",
   "pygments_lexer": "ipython3",
   "version": "3.6.5"
  }
 },
 "nbformat": 4,
 "nbformat_minor": 2
}
